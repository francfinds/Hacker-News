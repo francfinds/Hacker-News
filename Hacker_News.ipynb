{
 "cells": [
  {
   "cell_type": "markdown",
   "metadata": {},
   "source": [
    "# Hacker News user posts analysis\n",
    "\n",
    "Hacker News is a site started by the startup incubator [Y Combinator](https://www.ycombinator.com/), where user-submitted stories (known as \"posts\") are voted and commented upon, similar to reddit. Hacker News is extremely popular in technology and startup circles, and posts that make it to the top of Hacker News' listings can get hundreds of thousands of visitors as a result.\n",
    "\n",
    "You can find the data set [here](https://www.kaggle.com/hacker-news/hacker-news-posts).\n",
    "\n",
    "\n",
    " "
   ]
  },
  {
   "cell_type": "markdown",
   "metadata": {},
   "source": [
    "### Lets import the libraries we need and read the data set into a list of lists."
   ]
  },
  {
   "cell_type": "code",
   "execution_count": 1,
   "metadata": {
    "tags": []
   },
   "outputs": [
    {
     "output_type": "execute_result",
     "data": {
      "text/plain": "[['id', 'title', 'url', 'num_points', 'num_comments', 'author', 'created_at'],\n ['12579008',\n  'You have two days to comment if you want stem cells to be classified as your own',\n  'http://www.regulations.gov/document?D=FDA-2015-D-3719-0018',\n  '1',\n  '0',\n  'altstar',\n  '9/26/2016 3:26'],\n ['12579005',\n  'SQLAR  the SQLite Archiver',\n  'https://www.sqlite.org/sqlar/doc/trunk/README.md',\n  '1',\n  '0',\n  'blacksqr',\n  '9/26/2016 3:24'],\n ['12578997',\n  'What if we just printed a flatscreen television on the side of our boxes?',\n  'https://medium.com/vanmoof/our-secrets-out-f21c1f03fdc8#.ietxmez43',\n  '1',\n  '0',\n  'pavel_lishin',\n  '9/26/2016 3:19'],\n ['12578989',\n  'algorithmic music',\n  'http://cacm.acm.org/magazines/2011/7/109891-algorithmic-composition/fulltext',\n  '1',\n  '0',\n  'poindontcare',\n  '9/26/2016 3:16']]"
     },
     "metadata": {},
     "execution_count": 1
    }
   ],
   "source": [
    "import csv\n",
    "\n",
    "f = open('/Users/francfinds/Google Drive/Data Science/my_datasets/hn.csv')\n",
    "hn = list(csv.reader(f))\n",
    "hn[:5]\n"
   ]
  },
  {
   "cell_type": "markdown",
   "metadata": {},
   "source": [
    "### Remove headers from list of lists\n"
   ]
  },
  {
   "cell_type": "code",
   "execution_count": 2,
   "metadata": {
    "tags": []
   },
   "outputs": [
    {
     "output_type": "stream",
     "name": "stdout",
     "text": "['id', 'title', 'url', 'num_points', 'num_comments', 'author', 'created_at']\n[['12579008', 'You have two days to comment if you want stem cells to be classified as your own', 'http://www.regulations.gov/document?D=FDA-2015-D-3719-0018', '1', '0', 'altstar', '9/26/2016 3:26'], ['12579005', 'SQLAR  the SQLite Archiver', 'https://www.sqlite.org/sqlar/doc/trunk/README.md', '1', '0', 'blacksqr', '9/26/2016 3:24'], ['12578997', 'What if we just printed a flatscreen television on the side of our boxes?', 'https://medium.com/vanmoof/our-secrets-out-f21c1f03fdc8#.ietxmez43', '1', '0', 'pavel_lishin', '9/26/2016 3:19'], ['12578989', 'algorithmic music', 'http://cacm.acm.org/magazines/2011/7/109891-algorithmic-composition/fulltext', '1', '0', 'poindontcare', '9/26/2016 3:16'], ['12578979', 'How the Data Vault Enables the Next-Gen Data Warehouse and Data Lake', 'https://www.talend.com/blog/2016/05/12/talend-and-Â\\x93the-data-vaultÂ\\x94', '1', '0', 'markgainor1', '9/26/2016 3:14']]\n"
    }
   ],
   "source": [
    "headers = hn[0]\n",
    "hn = hn[1:]\n",
    "print(headers)\n",
    "print(hn[:5])"
   ]
  },
  {
   "cell_type": "markdown",
   "metadata": {},
   "source": [
    "### Remove posts without comments\n"
   ]
  },
  {
   "cell_type": "code",
   "execution_count": 3,
   "metadata": {
    "tags": []
   },
   "outputs": [
    {
     "output_type": "stream",
     "name": "stdout",
     "text": "80401\n"
    }
   ],
   "source": [
    "no_comments = []\n",
    "comments = []\n",
    "\n",
    "for post in hn:\n",
    "    comment = post[4]\n",
    "    comment = int(comment)\n",
    "    if comment > 0:\n",
    "        comments.append(post)\n",
    "    else:\n",
    "        no_comments.append(post)    \n",
    "hn = comments\n",
    "print(len(hn))\n"
   ]
  },
  {
   "cell_type": "markdown",
   "metadata": {},
   "source": [
    "## Extracting Ask HN and Show HN Posts\n",
    "\n",
    "First, we'll identify posts that begin with either Ask HN or Show HN and separate the data for those two types of posts into different lists. Separating the data makes it easier to analyze in the following steps."
   ]
  },
  {
   "cell_type": "code",
   "execution_count": 4,
   "metadata": {
    "tags": []
   },
   "outputs": [
    {
     "output_type": "stream",
     "name": "stdout",
     "text": "6911\n5059\n68431\n"
    }
   ],
   "source": [
    "# Identify posts that begin with either `Ask HN` or `Show HN` and separate the data into different lists.\n",
    "ask_posts = []\n",
    "show_posts =[]\n",
    "other_posts = []\n",
    "\n",
    "for post in hn:\n",
    "    title = post[1]\n",
    "    if title.lower().startswith(\"ask hn\"):\n",
    "        ask_posts.append(post)\n",
    "    elif title.lower().startswith(\"show hn\"):\n",
    "        show_posts.append(post)\n",
    "    else:\n",
    "        other_posts.append(post)\n",
    "        \n",
    "print(len(ask_posts))\n",
    "print(len(show_posts))\n",
    "print(len(other_posts))"
   ]
  },
  {
   "cell_type": "markdown",
   "metadata": {},
   "source": [
    "\n",
    "## Calculating the Average Number of Comments for Ask HN and Show HN Posts\n",
    "Now that we separated ask posts and show posts into different lists, we'll calculate the average number of comments each type of post receives."
   ]
  },
  {
   "cell_type": "code",
   "execution_count": 5,
   "metadata": {
    "tags": []
   },
   "outputs": [
    {
     "output_type": "stream",
     "name": "stdout",
     "text": "13.744175951381855\n"
    }
   ],
   "source": [
    "total_ask_comments = 0\n",
    "\n",
    "for post in ask_posts:\n",
    "    total_ask_comments += int(post[4])\n",
    "\n",
    "avg_ask_comments = total_ask_comments / len(ask_posts)\n",
    "print(avg_ask_comments)\n"
   ]
  },
  {
   "cell_type": "code",
   "execution_count": 6,
   "metadata": {
    "tags": []
   },
   "outputs": [
    {
     "output_type": "stream",
     "name": "stdout",
     "text": "9.810832180272781\n"
    }
   ],
   "source": [
    "total_show_comments = 0\n",
    "\n",
    "for post in show_posts:\n",
    "    total_show_comments += int(post[4])\n",
    "    \n",
    "avg_show_comments = total_show_comments / len(show_posts)\n",
    "print(avg_show_comments)"
   ]
  },
  {
   "cell_type": "markdown",
   "metadata": {},
   "source": [
    "On average, ask posts in our sample receive approximately 14 comments, whereas show posts receive approximately 10. Since ask posts are more likely to receive comments, we'll focus our remaining analysis just on these posts.\n",
    "\n",
    "### Finding the Amount of Ask Posts and Comments by Hour Created\n",
    "\n",
    "Next, we'll determine if we can maximize the amount of comments an ask post receives by creating it at a certain time. First, we'll find the amount of ask posts created during each hour of day, along with the number of comments those posts received. Then, we'll calculate the average amount of comments ask posts created at each hour of the day receive."
   ]
  },
  {
   "cell_type": "markdown",
   "metadata": {},
   "source": []
  },
  {
   "cell_type": "code",
   "execution_count": 7,
   "metadata": {},
   "outputs": [
    {
     "output_type": "execute_result",
     "data": {
      "text/plain": "[['12578975',\n  'Saving the Hassle of Shopping',\n  'https://blog.menswr.com/2016/09/07/whats-new-with-your-style-feed/',\n  '1',\n  '1',\n  'bdoux',\n  '9/26/2016 3:13'],\n ['12578908',\n  'Ask HN: What TLD do you use for local development?',\n  '',\n  '4',\n  '7',\n  'Sevrene',\n  '9/26/2016 2:53'],\n ['12578822',\n  'Amazons Algorithms Dont Find You the Best Deals',\n  'https://www.technologyreview.com/s/602442/amazons-algorithms-dont-find-you-the-best-deals/',\n  '1',\n  '1',\n  'yarapavan',\n  '9/26/2016 2:26'],\n ['12578694',\n  'Emergency dose of epinephrine that does not cost an arm and a leg',\n  'http://m.imgur.com/gallery/th6Ua',\n  '2',\n  '1',\n  'dredmorbius',\n  '9/26/2016 1:54'],\n ['12578624',\n  'Phone Makers Could Cut Off Drivers. So Why Dont They?',\n  'http://www.nytimes.com/2016/09/25/technology/phone-makers-could-cut-off-drivers-so-why-dont-they.html',\n  '4',\n  '1',\n  'danso',\n  '9/26/2016 1:37']]"
     },
     "metadata": {},
     "execution_count": 7
    }
   ],
   "source": [
    "hn[:5]"
   ]
  },
  {
   "cell_type": "code",
   "execution_count": 16,
   "metadata": {},
   "outputs": [
    {
     "output_type": "execute_result",
     "data": {
      "text/plain": "{'02': 2996,\n '01': 2089,\n '22': 3372,\n '21': 4500,\n '19': 3954,\n '17': 5547,\n '15': 18525,\n '14': 4972,\n '13': 7245,\n '11': 2797,\n '10': 3013,\n '09': 1477,\n '07': 1585,\n '03': 2154,\n '16': 4466,\n '08': 2362,\n '00': 2277,\n '23': 2297,\n '20': 4462,\n '18': 4877,\n '12': 4234,\n '04': 2360,\n '06': 1587,\n '05': 1838}"
     },
     "metadata": {},
     "execution_count": 16
    }
   ],
   "source": [
    "import datetime as dt\n",
    "\n",
    "result_list = []\n",
    "\n",
    "for post in ask_posts:\n",
    "    result_list.append(\n",
    "        [post[6], int(post[4])]\n",
    "    )\n",
    "\n",
    "comments_by_hour = {}\n",
    "counts_by_hour = {}\n",
    "date_format = \"%m/%d/%Y %H:%M\"\n",
    "\n",
    "for each_row in result_list:\n",
    "    date = each_row[0]\n",
    "    comment = each_row[1]\n",
    "    time = dt.datetime.strptime(date, date_format).strftime(\"%H\")\n",
    "    if time in counts_by_hour:\n",
    "        comments_by_hour[time] += comment\n",
    "        counts_by_hour[time] += 1\n",
    "    else:\n",
    "        comments_by_hour[time] = comment\n",
    "        counts_by_hour[time] = 1\n",
    "\n",
    "comments_by_hour\n",
    "\n",
    "\n",
    "\n"
   ]
  },
  {
   "cell_type": "markdown",
   "metadata": {},
   "source": [
    "### Calculating the Average Number of Comments for Ask HN Posts by Hour"
   ]
  },
  {
   "cell_type": "code",
   "execution_count": 17,
   "metadata": {},
   "outputs": [
    {
     "output_type": "execute_result",
     "data": {
      "text/plain": "[['02', 13.198237885462555],\n ['01', 9.367713004484305],\n ['22', 11.749128919860627],\n ['21', 11.056511056511056],\n ['19', 9.414285714285715],\n ['17', 13.73019801980198],\n ['15', 39.66809421841542],\n ['14', 13.153439153439153],\n ['13', 22.2239263803681],\n ['11', 11.143426294820717],\n ['10', 13.757990867579908],\n ['09', 8.392045454545455],\n ['07', 10.095541401273886],\n ['03', 10.160377358490566],\n ['16', 10.76144578313253],\n ['08', 12.43157894736842],\n ['00', 9.857142857142858],\n ['23', 8.322463768115941],\n ['20', 11.38265306122449],\n ['18', 10.789823008849558],\n ['12', 15.452554744525548],\n ['04', 12.688172043010752],\n ['06', 9.017045454545455],\n ['05', 11.139393939393939]]"
     },
     "metadata": {},
     "execution_count": 17
    }
   ],
   "source": [
    "# Calculate the average amount of comments `Ask HN` posts created at each hour of the day receive.\n",
    "avg_by_hour = []\n",
    "\n",
    "for hr in comments_by_hour:\n",
    "    avg_by_hour.append([hr, comments_by_hour[hr] / counts_by_hour[hr]])\n",
    "\n",
    "avg_by_hour"
   ]
  },
  {
   "cell_type": "markdown",
   "metadata": {},
   "source": [
    "### Sorting and Printing Values from a List of Lists"
   ]
  },
  {
   "cell_type": "code",
   "execution_count": 18,
   "metadata": {
    "tags": []
   },
   "outputs": [
    {
     "output_type": "stream",
     "name": "stdout",
     "text": "[[13.198237885462555, '02'], [9.367713004484305, '01'], [11.749128919860627, '22'], [11.056511056511056, '21'], [9.414285714285715, '19'], [13.73019801980198, '17'], [39.66809421841542, '15'], [13.153439153439153, '14'], [22.2239263803681, '13'], [11.143426294820717, '11'], [13.757990867579908, '10'], [8.392045454545455, '09'], [10.095541401273886, '07'], [10.160377358490566, '03'], [10.76144578313253, '16'], [12.43157894736842, '08'], [9.857142857142858, '00'], [8.322463768115941, '23'], [11.38265306122449, '20'], [10.789823008849558, '18'], [15.452554744525548, '12'], [12.688172043010752, '04'], [9.017045454545455, '06'], [11.139393939393939, '05']]\n"
    },
    {
     "output_type": "execute_result",
     "data": {
      "text/plain": "[[39.66809421841542, '15'],\n [22.2239263803681, '13'],\n [15.452554744525548, '12'],\n [13.757990867579908, '10'],\n [13.73019801980198, '17'],\n [13.198237885462555, '02'],\n [13.153439153439153, '14'],\n [12.688172043010752, '04'],\n [12.43157894736842, '08'],\n [11.749128919860627, '22'],\n [11.38265306122449, '20'],\n [11.143426294820717, '11'],\n [11.139393939393939, '05'],\n [11.056511056511056, '21'],\n [10.789823008849558, '18'],\n [10.76144578313253, '16'],\n [10.160377358490566, '03'],\n [10.095541401273886, '07'],\n [9.857142857142858, '00'],\n [9.414285714285715, '19'],\n [9.367713004484305, '01'],\n [9.017045454545455, '06'],\n [8.392045454545455, '09'],\n [8.322463768115941, '23']]"
     },
     "metadata": {},
     "execution_count": 18
    }
   ],
   "source": [
    "swap_avg_by_hour = []\n",
    "\n",
    "for row in avg_by_hour:\n",
    "    swap_avg_by_hour.append([row[1], row[0]])\n",
    "\n",
    "print(swap_avg_by_hour)\n",
    "\n",
    "sorted_swap = sorted(swap_avg_by_hour, reverse=True)\n",
    "\n",
    "sorted_swap"
   ]
  },
  {
   "cell_type": "code",
   "execution_count": 19,
   "metadata": {
    "tags": []
   },
   "outputs": [
    {
     "output_type": "stream",
     "name": "stdout",
     "text": "Top 5 Hours for 'Ask HN' Comments\n15:00: 39.67 average comments per post\n13:00: 22.22 average comments per post\n12:00: 15.45 average comments per post\n10:00: 13.76 average comments per post\n17:00: 13.73 average comments per post\n"
    }
   ],
   "source": [
    "# Sort the values and print the the 5 hours with the highest average comments.\n",
    "\n",
    "print(\"Top 5 Hours for 'Ask HN' Comments\")\n",
    "for avg, hr in sorted_swap[:5]:\n",
    "    print(\n",
    "        \"{}: {:.2f} average comments per post\".format(\n",
    "            dt.datetime.strptime(hr, \"%H\").strftime(\"%H:%M\"),avg\n",
    "        )\n",
    "    )"
   ]
  },
  {
   "cell_type": "markdown",
   "metadata": {},
   "source": [
    "The hour that receives the most comments per post on average is 15:00, with an average of 39.67 comments per post. There's about a 60% increase in the number of comments between the hours with the highest and second highest average number of comments.\n",
    "\n",
    "According to the data set [documentation](https://www.kaggle.com/hacker-news/hacker-news-posts/home), the timezone used is Eastern Time in the US. So, we could also write 15:00 as 3:00 pm est.\n",
    "\n",
    "## Conclusion\n",
    "In this project, we analyzed ask posts and show posts to determine which type of post and time receive the most comments on average. Based on our analysis, to maximize the amount of comments a post receives, we'd recommend the post be categorized as ask post and created between 15:00 and 16:00 (3:00 pm est - 4:00 pm est).\n",
    "\n",
    "However, it should be noted that the data set we analyzed excluded posts without any comments. Given that, it's more accurate to say that of the posts that received comments, ask posts received more comments on average and ask posts created between 15:00 and 16:00 (3:00 pm est - 4:00 pm est) received the most comments on average...\n",
    "\n",
    "New line here test!\n",
    "\n",
    "\n"
   ]
  }
 ],
 "metadata": {
  "language_info": {
   "codemirror_mode": {
    "name": "ipython",
    "version": 3
   },
   "file_extension": ".py",
   "mimetype": "text/x-python",
   "name": "python",
   "nbconvert_exporter": "python",
   "pygments_lexer": "ipython3",
   "version": 3
  },
  "orig_nbformat": 2,
  "kernelspec": {
   "name": "python_defaultSpec_1597008834149",
   "display_name": "Python 3.7.6 64-bit ('anaconda3': virtualenv)"
  }
 },
 "nbformat": 4,
 "nbformat_minor": 2
}